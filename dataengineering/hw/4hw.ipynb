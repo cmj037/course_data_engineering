{
 "cells": [
  {
   "cell_type": "code",
   "execution_count": 3,
   "id": "e470bb51-4ac5-411c-aa71-86fbb3036791",
   "metadata": {},
   "outputs": [
    {
     "name": "stdout",
     "output_type": "stream",
     "text": [
      "당신의 조선시대 이름은 최 방 룡 입니다\n"
     ]
    }
   ],
   "source": [
    "family_name = ['최', '김', '이', '박']\n",
    "month = ['쌍', '쇠', '복', '돌', '팽', '육', '쌍', '개', '칠', '갑', '삼', '방']\n",
    "day = ['봉', '구', '욕', '포', '똥', '삼', '식', '석', '놈', '님', '년', '돌', '단', '득', '방', '질', '장', '걸', '래', '룡', '동', '순', '자', '박', '창', '언', '것', '포', '만', '단', '국']\n",
    "\n",
    "def get_my_chosun_name(family_name, month, day):\n",
    "    print(\"당신의 조선시대 이름은\", family_name, month, day, \"입니다\")\n",
    "\n",
    "get_my_chosun_name('최', month[11], day[19])"
   ]
  },
  {
   "cell_type": "code",
   "execution_count": null,
   "id": "55f203ae-2ae9-4c7d-9539-e0a3c176bf7e",
   "metadata": {},
   "outputs": [],
   "source": []
  }
 ],
 "metadata": {
  "kernelspec": {
   "display_name": "Python 3",
   "language": "python",
   "name": "python3"
  },
  "language_info": {
   "codemirror_mode": {
    "name": "ipython",
    "version": 3
   },
   "file_extension": ".py",
   "mimetype": "text/x-python",
   "name": "python",
   "nbconvert_exporter": "python",
   "pygments_lexer": "ipython3",
   "version": "3.8.8"
  }
 },
 "nbformat": 4,
 "nbformat_minor": 5
}
