{
 "cells": [
  {
   "cell_type": "code",
   "execution_count": 2,
   "id": "49d14dab-3a2b-4fe2-9809-aeb1be25f8b3",
   "metadata": {},
   "outputs": [
    {
     "name": "stdout",
     "output_type": "stream",
     "text": [
      "average price is 31.875\n",
      "[25, 20, 35, 15, 15, 30, 45, 30]\n",
      "total revenue is 1085\n",
      "average daily revenue is 155.0\n",
      "['bouffant', 'pixie', 'crew', 'bowl']\n"
     ]
    }
   ],
   "source": [
    "hairstyles = [\"bouffant\", \"pixie\", \"dreadlocks\", \"crew\", \"bowl\", \"bob\", \"mohawk\", \"flattop\"]\n",
    "prices = [30, 25, 40, 20, 20, 35, 50, 35]\n",
    "last_week = [2, 3, 5, 8, 4, 4, 6, 2]\n",
    "\n",
    "total_price = 0\n",
    "\n",
    "for p in prices:\n",
    "    total_price += p\n",
    "\n",
    "average_price = total_price / len(prices)\n",
    "\n",
    "print(\"average price is\", average_price)\n",
    "\n",
    "new_prices = [p-5 for p in prices]\n",
    "\n",
    "print(new_prices)\n",
    "\n",
    "total_revenue = 0\n",
    "\n",
    "for i in range(len(hairstyles)):\n",
    "    total_revenue += prices[i] * last_week[i]\n",
    "    \n",
    "print(\"total revenue is\", total_revenue) \n",
    " \n",
    "average_daily_revenue = total_revenue/7\n",
    "    \n",
    "print(\"average daily revenue is\", average_daily_revenue)\n",
    "\n",
    "cuts_under_30 = []\n",
    "for i in range(len(hairstyles)):\n",
    "    if new_prices[i] < 30:\n",
    "        cuts_under_30.append(hairstyles[i])\n",
    "        \n",
    "print(cuts_under_30)"
   ]
  },
  {
   "cell_type": "code",
   "execution_count": null,
   "id": "255f76a5-e4dc-434d-b5b1-82d852c6f730",
   "metadata": {},
   "outputs": [],
   "source": []
  }
 ],
 "metadata": {
  "kernelspec": {
   "display_name": "Python 3",
   "language": "python",
   "name": "python3"
  },
  "language_info": {
   "codemirror_mode": {
    "name": "ipython",
    "version": 3
   },
   "file_extension": ".py",
   "mimetype": "text/x-python",
   "name": "python",
   "nbconvert_exporter": "python",
   "pygments_lexer": "ipython3",
   "version": "3.8.8"
  }
 },
 "nbformat": 4,
 "nbformat_minor": 5
}
